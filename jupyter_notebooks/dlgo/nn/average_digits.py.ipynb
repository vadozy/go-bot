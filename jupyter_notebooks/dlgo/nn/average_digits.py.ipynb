{
 "cells": [
  {
   "cell_type": "markdown",
   "metadata": {},
   "source": [
    "## Average Digits"
   ]
  },
  {
   "cell_type": "code",
   "execution_count": null,
   "metadata": {},
   "outputs": [],
   "source": [
    "import numpy as np\n",
    "from dlgo.nn.load_mnist import load_data\n",
    "from dlgo.nn.layers import sigmoid\n",
    "\n",
    "import matplotlib.pyplot as plt\n",
    "%matplotlib inline\n",
    "\n",
    "from typing import List, Tuple, Iterator"
   ]
  },
  {
   "cell_type": "code",
   "execution_count": null,
   "metadata": {},
   "outputs": [],
   "source": [
    "def average_digit(data: Iterator[Tuple[np.ndarray, np.ndarray]], digit: int):\n",
    "    filtered_data = [x[0] for x in data if x[1][digit] == 1]\n",
    "    filtered_array = np.asarray(filtered_data)\n",
    "    return np.average(filtered_array, axis=0)"
   ]
  },
  {
   "cell_type": "code",
   "execution_count": null,
   "metadata": {},
   "outputs": [],
   "source": [
    "train, test = load_data()\n",
    "train = list(train)\n",
    "test = list(test)"
   ]
  },
  {
   "cell_type": "code",
   "execution_count": null,
   "metadata": {},
   "outputs": [],
   "source": [
    "avg_0 = average_digit(train, 0)\n",
    "avg_1 = average_digit(train, 1)\n",
    "avg_2 = average_digit(train, 2)\n",
    "avg_3 = average_digit(train, 3)\n",
    "avg_4 = average_digit(train, 4)\n",
    "avg_5 = average_digit(train, 5)\n",
    "avg_6 = average_digit(train, 6)\n",
    "avg_7 = average_digit(train, 7)\n",
    "avg_8 = average_digit(train, 8)\n",
    "avg_9 = average_digit(train, 9)\n",
    "print(avg_8.shape)"
   ]
  },
  {
   "cell_type": "code",
   "execution_count": null,
   "metadata": {},
   "outputs": [],
   "source": [
    "#Training sample at index 2 is a \"4\".\n",
    "#Training sample at index 17 is an \"8\"\n",
    "sample_4 = train[2][0]\n",
    "sample_8 = train[17][0]"
   ]
  },
  {
   "cell_type": "code",
   "execution_count": null,
   "metadata": {},
   "outputs": [],
   "source": [
    "img = (np.reshape(avg_8, (28, 28)))\n",
    "plt.imshow(img)\n",
    "plt.show()"
   ]
  },
  {
   "cell_type": "code",
   "execution_count": null,
   "metadata": {},
   "outputs": [],
   "source": [
    "img = (np.reshape(sample_8, (28, 28)))\n",
    "plt.imshow(img)\n",
    "plt.show()"
   ]
  },
  {
   "cell_type": "code",
   "execution_count": null,
   "metadata": {},
   "outputs": [],
   "source": [
    "img = (np.reshape(avg_4, (28, 28)))\n",
    "plt.imshow(img)\n",
    "plt.show()"
   ]
  },
  {
   "cell_type": "code",
   "execution_count": null,
   "metadata": {},
   "outputs": [],
   "source": [
    "img = (np.reshape(sample_4, (28, 28)))\n",
    "plt.imshow(img)\n",
    "plt.show()"
   ]
  },
  {
   "cell_type": "code",
   "execution_count": null,
   "metadata": {},
   "outputs": [],
   "source": [
    "print(np.dot(avg_8, sample_4))\n",
    "print(np.dot(avg_4, sample_4))\n",
    "print(np.dot(avg_8, sample_8))\n",
    "print(np.dot(avg_8, sample_8))"
   ]
  },
  {
   "cell_type": "code",
   "execution_count": null,
   "metadata": {},
   "outputs": [],
   "source": [
    "max_product, min_product = 0, 1000000\n",
    "max_item, min_item = None, None\n",
    "max_label, min_label = None, None\n",
    "\n",
    "n = 8\n",
    "\n",
    "ds = train\n",
    "for d in ds:\n",
    "    if d[1][n] != 1:\n",
    "        continue\n",
    "    product = np.dot(avg_eight, d[0])\n",
    "    if product > max_product:\n",
    "        max_product = product\n",
    "        max_item = d[0]\n",
    "        max_label = np.argmax(d[1])\n",
    "    if product < min_product:\n",
    "        min_product = product\n",
    "        min_item = d[0]\n",
    "        min_label = np.argmax(d[1])\n",
    "\n",
    "print(\"Products\", max_product, min_product)\n",
    "print(\"Labels\", max_label, min_label)"
   ]
  },
  {
   "cell_type": "code",
   "execution_count": null,
   "metadata": {},
   "outputs": [],
   "source": [
    "def predict(x, ave, b):\n",
    "    return sigmoid(np.dot(ave, x) + b)\n",
    "\n",
    "def evaluate(data, digit, threshold, ave, b):\n",
    "    total_samples = len(data)\n",
    "    correct_predictions = 0\n",
    "    for x in data:\n",
    "        if predict(x[0], ave, b) > threshold and x[1][digit] == 1:\n",
    "            correct_predictions += 1\n",
    "        if predict(x[0], ave, b) <= threshold and x[1][digit] != 1:\n",
    "            correct_predictions += 1\n",
    "    return correct_predictions / total_samples"
   ]
  },
  {
   "cell_type": "code",
   "execution_count": null,
   "metadata": {},
   "outputs": [],
   "source": [
    "b = -45\n",
    "print(predict(x_3, avg_eight, b))\n",
    "print(predict(x_18, avg_eight, b))"
   ]
  },
  {
   "cell_type": "code",
   "execution_count": null,
   "metadata": {},
   "outputs": [],
   "source": [
    "b = -45\n",
    "threshold = 0.5\n",
    "\n",
    "print(evaluate(data=train, digit=8, threshold=threshold, ave=avg_eight, b=b))\n",
    "print(evaluate(data=test, digit=8, threshold=threshold, ave=avg_eight, b=b))\n",
    "\n",
    "eight_test = [x for x in test if x[1][8] == 1]\n",
    "print(evaluate(data=eight_test, digit=8, threshold=threshold, ave=avg_eight, b=b))"
   ]
  },
  {
   "cell_type": "code",
   "execution_count": null,
   "metadata": {},
   "outputs": [],
   "source": []
  }
 ],
 "metadata": {
  "kernelspec": {
   "display_name": "Python 3",
   "language": "python",
   "name": "python3"
  },
  "language_info": {
   "codemirror_mode": {
    "name": "ipython",
    "version": 3
   },
   "file_extension": ".py",
   "mimetype": "text/x-python",
   "name": "python",
   "nbconvert_exporter": "python",
   "pygments_lexer": "ipython3",
   "version": "3.7.6"
  }
 },
 "nbformat": 4,
 "nbformat_minor": 4
}
