{
 "cells": [
  {
   "cell_type": "markdown",
   "metadata": {},
   "source": [
    "## Average Digits"
   ]
  },
  {
   "cell_type": "code",
   "execution_count": null,
   "metadata": {},
   "outputs": [],
   "source": [
    "import numpy as np\n",
    "from dlgo.nn.load_mnist import load_data\n",
    "from dlgo.nn.layers import sigmoid\n",
    "\n",
    "import matplotlib.pyplot as plt\n",
    "%matplotlib inline\n",
    "\n",
    "from typing import List, Tuple, Iterator"
   ]
  },
  {
   "cell_type": "code",
   "execution_count": null,
   "metadata": {},
   "outputs": [],
   "source": [
    "def average_digit(data: Iterator[Tuple[np.ndarray, np.ndarray]], digit: int):\n",
    "    filtered_data = [x[0] for x in data if x[1][digit] == 1]\n",
    "    filtered_array = np.asarray(filtered_data)\n",
    "    return np.average(filtered_array, axis=0)"
   ]
  },
  {
   "cell_type": "code",
   "execution_count": null,
   "metadata": {},
   "outputs": [],
   "source": [
    "train, test = load_data()\n",
    "train = list(train)\n",
    "test = list(test)"
   ]
  },
  {
   "cell_type": "code",
   "execution_count": null,
   "metadata": {},
   "outputs": [],
   "source": [
    "avg_eight = average_digit(train, 8)\n",
    "print(avg_eight.shape)"
   ]
  },
  {
   "cell_type": "code",
   "execution_count": null,
   "metadata": {},
   "outputs": [],
   "source": [
    "img = (np.reshape(avg_eight, (28, 28)))\n",
    "plt.imshow(img)\n",
    "plt.show()"
   ]
  },
  {
   "cell_type": "code",
   "execution_count": null,
   "metadata": {},
   "outputs": [],
   "source": [
    "#Training sample at index 2 is a \"4\".\n",
    "#Training sample at index 17 is an \"8\"\n",
    "x_3 = train[2][0]\n",
    "x_18 = train[17][0]\n",
    "\n",
    "W = np.transpose(avg_eight)\n",
    "print(np.dot(W, x_3))\n",
    "print(np.dot(W, x_18))\n",
    "print(np.dot(W, avg_eight))"
   ]
  },
  {
   "cell_type": "code",
   "execution_count": null,
   "metadata": {},
   "outputs": [],
   "source": [
    "max_product, min_product = 0, 1000000\n",
    "max_item, min_item = None, None\n",
    "max_label, min_label = None, None\n",
    "\n",
    "ds = train\n",
    "for d in ds:\n",
    "    if np.argmax(d[1]) != 8:\n",
    "        continue\n",
    "    product = np.dot(W, d[0])\n",
    "    if product > max_product:\n",
    "        max_product = product\n",
    "        max_item = d[0]\n",
    "        max_label = np.argmax(d[1])\n",
    "    if product < min_product:\n",
    "        min_product = product\n",
    "        min_item = d[0]\n",
    "        min_label = np.argmax(d[1])\n",
    "\n",
    "print(\"Products\", max_product, min_product)\n",
    "print(\"Labels\", max_label, min_label)"
   ]
  },
  {
   "cell_type": "code",
   "execution_count": null,
   "metadata": {},
   "outputs": [],
   "source": [
    "img = (np.reshape(x_18, (28, 28)))\n",
    "plt.imshow(img)\n",
    "plt.show()"
   ]
  },
  {
   "cell_type": "code",
   "execution_count": null,
   "metadata": {},
   "outputs": [],
   "source": [
    "def predict(x, W, b):\n",
    "    return sigmoid(np.dot(W, x) + b)\n",
    "\n",
    "def evaluate(data, digit, threshold, W, b):\n",
    "    total_samples = len(data)\n",
    "    correct_predictions = 0\n",
    "    for x in data:\n",
    "        if predict(x[0], W, b) > threshold and x[1][digit] == 1:\n",
    "            correct_predictions += 1\n",
    "        if predict(x[0], W, b) <= threshold and x[1][digit] != 1:\n",
    "            correct_predictions += 1\n",
    "    return correct_predictions / total_samples"
   ]
  },
  {
   "cell_type": "code",
   "execution_count": null,
   "metadata": {},
   "outputs": [],
   "source": [
    "b = -45\n",
    "threshold = 0.5\n",
    "\n",
    "print(evaluate(data=train, digit=8, threshold=threshold, W=W, b=b))\n",
    "print(evaluate(data=test, digit=8, threshold=threshold, W=W, b=b))"
   ]
  },
  {
   "cell_type": "code",
   "execution_count": null,
   "metadata": {},
   "outputs": [],
   "source": [
    "eight_test = [x for x in test if x[1][8] == 1]\n",
    "evaluate(data=eight_test, digit=8, threshold=threshold, W=W, b=b)"
   ]
  },
  {
   "cell_type": "code",
   "execution_count": null,
   "metadata": {},
   "outputs": [],
   "source": []
  },
  {
   "cell_type": "code",
   "execution_count": null,
   "metadata": {},
   "outputs": [],
   "source": []
  }
 ],
 "metadata": {
  "kernelspec": {
   "display_name": "Python 3",
   "language": "python",
   "name": "python3"
  },
  "language_info": {
   "codemirror_mode": {
    "name": "ipython",
    "version": 3
   },
   "file_extension": ".py",
   "mimetype": "text/x-python",
   "name": "python",
   "nbconvert_exporter": "python",
   "pygments_lexer": "ipython3",
   "version": "3.7.6"
  }
 },
 "nbformat": 4,
 "nbformat_minor": 4
}
